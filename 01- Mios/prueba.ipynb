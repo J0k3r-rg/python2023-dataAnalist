{
 "cells": [
  {
   "attachments": {},
   "cell_type": "markdown",
   "metadata": {},
   "source": [
    "# Primeros pasos en jupyter"
   ]
  },
  {
   "cell_type": "code",
   "execution_count": 1,
   "metadata": {},
   "outputs": [
    {
     "name": "stdout",
     "output_type": "stream",
     "text": [
      "hola mundo\n"
     ]
    }
   ],
   "source": [
    "print(\"hola mundo\")"
   ]
  },
  {
   "attachments": {},
   "cell_type": "markdown",
   "metadata": {},
   "source": [
    "## Podemos agregar subtitulos explicando lo que hacemos\n",
    "\n",
    "asi mismo podemos agregar pequeñas descripciones\n",
    "podemos agrgar pequeños fragmentos de codigo que se ejecutan de manera independiente \n",
    "tener en cuenta que si queremos usar una variable anteriormente declarada tenemos que ejecutar primero ese bloque de codigo antes de ejecutar el que utiliza una variable declarada en un bloque anterior de codigo"
   ]
  },
  {
   "cell_type": "code",
   "execution_count": 2,
   "metadata": {},
   "outputs": [],
   "source": [
    "#ejemplo en este bloque de codigo vamos a declarar algunas variables\n",
    "num1 = 1\n",
    "num2 = 2\n",
    "num3 = 3\n",
    "frase = 'Esto es una frase'\n",
    "frase2 = 'tambien es una frase'"
   ]
  },
  {
   "attachments": {},
   "cell_type": "markdown",
   "metadata": {},
   "source": [
    "## ahora tenemos las variables declaradas en el bloque anterior y vamos a modificarlas en el siguiente bloque de codigo\n",
    "\n",
    "recordar que para que el bloque de codigo que tengo a continuacion poder imprimir las variables del bloque anterior necesito tener si o si ejecutado 1 vez el bloque anterior. caso de abrir el archivo y no ejecutar la linea enterior no se ejecutara el bloque siguiente a esta nota"
   ]
  },
  {
   "cell_type": "code",
   "execution_count": 3,
   "metadata": {},
   "outputs": [
    {
     "name": "stdout",
     "output_type": "stream",
     "text": [
      "1\n",
      "2\n",
      "3\n",
      "Esto es una frase\n",
      "tambien es una frase\n"
     ]
    }
   ],
   "source": [
    "print(num1)\n",
    "print(num2)\n",
    "print(num3)\n",
    "print(frase)\n",
    "print(frase2)"
   ]
  },
  {
   "cell_type": "code",
   "execution_count": null,
   "metadata": {},
   "outputs": [],
   "source": []
  }
 ],
 "metadata": {
  "kernelspec": {
   "display_name": "Python 3",
   "language": "python",
   "name": "python3"
  },
  "language_info": {
   "codemirror_mode": {
    "name": "ipython",
    "version": 3
   },
   "file_extension": ".py",
   "mimetype": "text/x-python",
   "name": "python",
   "nbconvert_exporter": "python",
   "pygments_lexer": "ipython3",
   "version": "3.11.2"
  },
  "orig_nbformat": 4
 },
 "nbformat": 4,
 "nbformat_minor": 2
}
