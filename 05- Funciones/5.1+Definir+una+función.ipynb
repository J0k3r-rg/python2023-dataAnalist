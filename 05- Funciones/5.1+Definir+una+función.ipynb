{
 "cells": [
  {
   "attachments": {},
   "cell_type": "markdown",
   "metadata": {},
   "source": [
    "<font color=Green>\n",
    "    \n",
    "# **5.1 Definir una función**\n",
    "\n",
    "</font>\n",
    "\n",
    "### Las funciones en Python, al igual que en el resto de lenguajes de programación, permiten reutilizar código. Una función podría considerarse como una variable que encierra un conjunto de instrucciones. Por lo tanto al llamar a una función lo que estamos haciendo es ordenar al programa para que ejecute un conjunto de instrucciones. Algunas características de las funciones en Python son:\n",
    "\n",
    "+ Se pueden crear en cualquier momento del programa.\n",
    "+ Su palabra reservada es `def`.\n",
    "+ Seguido de `def` viene el nombre de la función y entre paréntesis los argumentos de entrada.\n",
    "+ No es obligatorio que la función devuelva un valor, aunque se puede usando la palabra reservada `return`.\n",
    "+ Las variables declaradas dentro de una función son locales a esa función.\n",
    "+ Para declarar una variable dentro de una función, pero poder acceder desde fuera de la función, ésta se puede declarar como global (con global)\n",
    "+ NOTAS MIAS:\n",
    "+   recordar que si no retorna nada la funcion la utilizamos como subproceso para pedir datos o mostrar en pantalla"
   ]
  },
  {
   "cell_type": "code",
   "execution_count": 1,
   "metadata": {
    "scrolled": true
   },
   "outputs": [
    {
     "name": "stdout",
     "output_type": "stream",
     "text": [
      "Hola, esto se llama desde adentro de la función saludar()\n"
     ]
    }
   ],
   "source": [
    "def saludar():\n",
    "    print(\"Hola, esto se llama desde adentro de la función saludar()\")\n",
    "    \n",
    "saludar()"
   ]
  },
  {
   "cell_type": "code",
   "execution_count": null,
   "metadata": {},
   "outputs": [],
   "source": [
    "def tabla_del_5():\n",
    "    for i in range(10):\n",
    "        print(f\"5 * {i} = {5*i}\")\n",
    "        \n",
    "tabla_del_5()"
   ]
  },
  {
   "cell_type": "markdown",
   "metadata": {},
   "source": [
    "<font color=#003d5c>\n",
    "    \n",
    "## _Scope_\n",
    "</font>\n",
    "\n",
    "### En Python cada nombre (los identificadores de variables, funciones, objetos, etc) tiene su _scope_ (alcance). El scope define el área de un programa en la cual puedes acceder a un nombre."
   ]
  },
  {
   "cell_type": "code",
   "execution_count": 5,
   "metadata": {},
   "outputs": [
    {
     "data": {
      "text/plain": [
       "10"
      ]
     },
     "execution_count": 5,
     "metadata": {},
     "output_type": "execute_result"
    }
   ],
   "source": [
    "def prueba():\n",
    "    n=10\n",
    "    return n\n",
    "\n",
    "prueba()\n"
   ]
  },
  {
   "attachments": {},
   "cell_type": "markdown",
   "metadata": {},
   "source": [
    "### OBSERVACION\n",
    "veremos que la variable n tira error ya que no esta definida en el algoritmo, como vemos esta definida dentro de la funcion y solo puede ser utilizada dentro de la funcion pero no fuera de ella\n",
    "\n",
    "+ la variable deja de existir cuando se termina de ejecutar la funcion por lo tanto fuera de ella no existe"
   ]
  },
  {
   "cell_type": "code",
   "execution_count": 6,
   "metadata": {
    "scrolled": true
   },
   "outputs": [
    {
     "ename": "NameError",
     "evalue": "name 'n' is not defined",
     "output_type": "error",
     "traceback": [
      "\u001b[1;31m---------------------------------------------------------------------------\u001b[0m",
      "\u001b[1;31mNameError\u001b[0m                                 Traceback (most recent call last)",
      "Cell \u001b[1;32mIn[6], line 1\u001b[0m\n\u001b[1;32m----> 1\u001b[0m n\n",
      "\u001b[1;31mNameError\u001b[0m: name 'n' is not defined"
     ]
    }
   ],
   "source": [
    "n"
   ]
  },
  {
   "cell_type": "code",
   "execution_count": null,
   "metadata": {},
   "outputs": [],
   "source": [
    "n=10\n",
    "\n",
    "def prueba():\n",
    "    print(n)\n",
    "    \n",
    "prueba()"
   ]
  },
  {
   "cell_type": "code",
   "execution_count": null,
   "metadata": {},
   "outputs": [],
   "source": [
    "n"
   ]
  },
  {
   "cell_type": "code",
   "execution_count": 2,
   "metadata": {},
   "outputs": [
    {
     "name": "stdout",
     "output_type": "stream",
     "text": [
      "8\n"
     ]
    }
   ],
   "source": [
    "def test():\n",
    "    print(m)\n",
    "    \n",
    "m=8\n",
    "\n",
    "test()\n"
   ]
  },
  {
   "cell_type": "code",
   "execution_count": 4,
   "metadata": {},
   "outputs": [
    {
     "name": "stdout",
     "output_type": "stream",
     "text": [
      "variable local:  5\n",
      "variable local:  5\n",
      "variable global  10\n"
     ]
    }
   ],
   "source": [
    "print(\"o = 10 dentro del algoritmo\") \n",
    "print(\"o = 5 dentro de la funcion\") \n",
    "#las variables son distintas por mas que tengan el mismo nombre.... pero tienen distinto scope!\n",
    "def test():\n",
    "    o = 5   # Esta variable solamente existe dentro de la función\n",
    "    print(\"variable local de la funcion: \",o)\n",
    "\n",
    "test()\n",
    "\n",
    "o = 10   #Esta variable abarca todo el proceso\n",
    "\n",
    "test()\n",
    "print(\"variable global del algoritmo: \", o)"
   ]
  },
  {
   "cell_type": "code",
   "execution_count": null,
   "metadata": {},
   "outputs": [],
   "source": []
  }
 ],
 "metadata": {
  "kernelspec": {
   "display_name": "Python 3",
   "language": "python",
   "name": "python3"
  },
  "language_info": {
   "codemirror_mode": {
    "name": "ipython",
    "version": 3
   },
   "file_extension": ".py",
   "mimetype": "text/x-python",
   "name": "python",
   "nbconvert_exporter": "python",
   "pygments_lexer": "ipython3",
   "version": "3.11.2"
  }
 },
 "nbformat": 4,
 "nbformat_minor": 4
}
